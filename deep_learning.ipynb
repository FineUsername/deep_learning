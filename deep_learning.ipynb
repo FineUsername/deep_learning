{
  "nbformat": 4,
  "nbformat_minor": 0,
  "metadata": {
    "colab": {
      "provenance": []
    },
    "kernelspec": {
      "name": "python3",
      "display_name": "Python 3"
    },
    "language_info": {
      "name": "python"
    }
  },
  "cells": [
    {
      "cell_type": "code",
      "execution_count": null,
      "metadata": {
        "id": "60lqQQDvNVn0"
      },
      "outputs": [],
      "source": [
        "from google.colab import files\n",
        "files.upload()\n",
        "\n",
        "!rm -r ~/.kaggle\n",
        "!rm -r ~/content\n",
        "!mkdir ~/.kaggle\n",
        "!mkdir ~/content\n",
        "!mv ./kaggle.json ~/.kaggle/\n",
        "!chmod 600 ~/.kaggle/kaggle.json\n",
        "\n",
        "!kaggle datasets download -d vencerlanz09/sea-animals-image-dataste\n",
        "\n",
        "import zipfile\n",
        "zip_ref = zipfile.ZipFile('sea-animals-image-dataste.zip', 'r')\n",
        "zip_ref.extractall('/content')\n",
        "zip_ref.close()"
      ]
    },
    {
      "cell_type": "code",
      "source": [
        "import numpy as np\n",
        "import matplotlib.pyplot as plt\n",
        "from keras.preprocessing.image import ImageDataGenerator\n",
        "from keras.models import Sequential\n",
        "from keras.layers import Dense, Dropout, Flatten, Conv2D, MaxPooling2D, BatchNormalization\n",
        "import tensorflow as tf\n",
        "import random\n",
        "import numpy as np\n",
        "import os\n",
        "import shutil"
      ],
      "metadata": {
        "id": "plaQRX8WNXEY"
      },
      "execution_count": null,
      "outputs": []
    },
    {
      "cell_type": "code",
      "source": [
        "dataset_path = \"/content/\"\n",
        "train_path = \"/content/train\"\n",
        "val_path = \"/content/val\"\n",
        "test_path = \"/content/test\"\n",
        "\n",
        "if not os.path.exists(train_path):\n",
        "    os.mkdir(train_path)\n",
        "\n",
        "if not os.path.exists(val_path):\n",
        "    os.mkdir(val_path)\n",
        "\n",
        "if not os.path.exists(test_path):\n",
        "    os.mkdir(test_path)"
      ],
      "metadata": {
        "id": "6YZRbbgNNZSA"
      },
      "execution_count": null,
      "outputs": []
    },
    {
      "cell_type": "code",
      "source": [
        "IMG_SIZE=256\n",
        "labels = ['Penguin', 'Starfish', 'Sea Rays', 'Crabs', 'Otter', 'Whale']\n",
        "print(labels)\n",
        "print(len(labels))"
      ],
      "metadata": {
        "id": "-oxxVs9QNeZU"
      },
      "execution_count": null,
      "outputs": []
    },
    {
      "cell_type": "code",
      "source": [
        "for label in labels:\n",
        "    label_full_path = os.path.join(dataset_path, label)\n",
        "\n",
        "    images_path = os.listdir(label_full_path)\n",
        "\n",
        "    images = [i for i in images_path if i.endswith(\".jpg\")]\n",
        "\n",
        "    random.shuffle(images)\n",
        "    split_size = 0.8\n",
        "    val_size = 0.1\n",
        "    train_len = int(len(images) * split_size)\n",
        "    val_len = train_len + int(len(images) * val_size)\n",
        "    train_images = images[:train_len]\n",
        "    val_images = images[train_len:val_len]\n",
        "    test_images = images[val_len:]\n",
        "\n",
        "    label_train_path = os.path.join(train_path, label)\n",
        "    label_val_path = os.path.join(val_path, label)\n",
        "    label_test_path = os.path.join(test_path, label)\n",
        "\n",
        "    if not os.path.exists(label_train_path):\n",
        "        os.mkdir(label_train_path)\n",
        "\n",
        "    if not os.path.exists(label_val_path):\n",
        "        os.mkdir(label_val_path)\n",
        "\n",
        "    if not os.path.exists(label_test_path):\n",
        "        os.mkdir(label_test_path)\n",
        "\n",
        "    for im in train_images:\n",
        "        shutil.copy(os.path.join(label_full_path, im), label_train_path)\n",
        "\n",
        "    for im in val_images:\n",
        "        shutil.copy(os.path.join(label_full_path, im), label_val_path)\n",
        "\n",
        "    for im in test_images:\n",
        "        shutil.copy(os.path.join(label_full_path, im), label_test_path)"
      ],
      "metadata": {
        "id": "G81c_3EYNitp"
      },
      "execution_count": null,
      "outputs": []
    },
    {
      "cell_type": "code",
      "source": [
        "batch_size = 32\n",
        "\n",
        "datagen = ImageDataGenerator(\n",
        "        rescale=1./255,\n",
        "        rotation_range=10,\n",
        "        zoom_range=0.1,\n",
        "        width_shift_range=0.2,\n",
        "        height_shift_range=0.2,\n",
        "        horizontal_flip=True\n",
        ")\n",
        "\n",
        "test_datagen = ImageDataGenerator(rescale=1./255)"
      ],
      "metadata": {
        "id": "PTGm4zLLkIwF"
      },
      "execution_count": null,
      "outputs": []
    },
    {
      "cell_type": "code",
      "source": [
        "train_ds = datagen.flow_from_directory(\n",
        "    train_path,\n",
        "    target_size=(IMG_SIZE, IMG_SIZE),\n",
        "    classes=labels,\n",
        "    batch_size=batch_size\n",
        ")\n",
        "\n",
        "val_ds = test_datagen.flow_from_directory(\n",
        "    val_path,\n",
        "    target_size=(IMG_SIZE, IMG_SIZE),\n",
        "    classes=labels,\n",
        "    batch_size=batch_size\n",
        ")\n",
        "\n",
        "test_ds = test_datagen.flow_from_directory(\n",
        "    test_path,\n",
        "    target_size=(IMG_SIZE, IMG_SIZE),\n",
        "    classes=labels,\n",
        "    batch_size=batch_size\n",
        ")"
      ],
      "metadata": {
        "id": "97dJi59OkJ81"
      },
      "execution_count": null,
      "outputs": []
    }
  ]
}