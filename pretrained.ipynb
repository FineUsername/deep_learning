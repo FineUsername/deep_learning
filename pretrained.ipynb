{
  "nbformat": 4,
  "nbformat_minor": 0,
  "metadata": {
    "colab": {
      "provenance": [],
      "gpuType": "T4"
    },
    "kernelspec": {
      "name": "python3",
      "display_name": "Python 3"
    },
    "language_info": {
      "name": "python"
    },
    "accelerator": "GPU"
  },
  "cells": [
    {
      "cell_type": "code",
      "execution_count": 1,
      "metadata": {
        "colab": {
          "base_uri": "https://localhost:8080/",
          "height": 160
        },
        "id": "OyNlJq1n8f7R",
        "outputId": "ae86af27-aef6-4744-ab93-653b4a6bad61"
      },
      "outputs": [
        {
          "output_type": "display_data",
          "data": {
            "text/plain": [
              "<IPython.core.display.HTML object>"
            ],
            "text/html": [
              "\n",
              "     <input type=\"file\" id=\"files-39b995fb-d83c-49b9-9bec-fe531fbfdb34\" name=\"files[]\" multiple disabled\n",
              "        style=\"border:none\" />\n",
              "     <output id=\"result-39b995fb-d83c-49b9-9bec-fe531fbfdb34\">\n",
              "      Upload widget is only available when the cell has been executed in the\n",
              "      current browser session. Please rerun this cell to enable.\n",
              "      </output>\n",
              "      <script>// Copyright 2017 Google LLC\n",
              "//\n",
              "// Licensed under the Apache License, Version 2.0 (the \"License\");\n",
              "// you may not use this file except in compliance with the License.\n",
              "// You may obtain a copy of the License at\n",
              "//\n",
              "//      http://www.apache.org/licenses/LICENSE-2.0\n",
              "//\n",
              "// Unless required by applicable law or agreed to in writing, software\n",
              "// distributed under the License is distributed on an \"AS IS\" BASIS,\n",
              "// WITHOUT WARRANTIES OR CONDITIONS OF ANY KIND, either express or implied.\n",
              "// See the License for the specific language governing permissions and\n",
              "// limitations under the License.\n",
              "\n",
              "/**\n",
              " * @fileoverview Helpers for google.colab Python module.\n",
              " */\n",
              "(function(scope) {\n",
              "function span(text, styleAttributes = {}) {\n",
              "  const element = document.createElement('span');\n",
              "  element.textContent = text;\n",
              "  for (const key of Object.keys(styleAttributes)) {\n",
              "    element.style[key] = styleAttributes[key];\n",
              "  }\n",
              "  return element;\n",
              "}\n",
              "\n",
              "// Max number of bytes which will be uploaded at a time.\n",
              "const MAX_PAYLOAD_SIZE = 100 * 1024;\n",
              "\n",
              "function _uploadFiles(inputId, outputId) {\n",
              "  const steps = uploadFilesStep(inputId, outputId);\n",
              "  const outputElement = document.getElementById(outputId);\n",
              "  // Cache steps on the outputElement to make it available for the next call\n",
              "  // to uploadFilesContinue from Python.\n",
              "  outputElement.steps = steps;\n",
              "\n",
              "  return _uploadFilesContinue(outputId);\n",
              "}\n",
              "\n",
              "// This is roughly an async generator (not supported in the browser yet),\n",
              "// where there are multiple asynchronous steps and the Python side is going\n",
              "// to poll for completion of each step.\n",
              "// This uses a Promise to block the python side on completion of each step,\n",
              "// then passes the result of the previous step as the input to the next step.\n",
              "function _uploadFilesContinue(outputId) {\n",
              "  const outputElement = document.getElementById(outputId);\n",
              "  const steps = outputElement.steps;\n",
              "\n",
              "  const next = steps.next(outputElement.lastPromiseValue);\n",
              "  return Promise.resolve(next.value.promise).then((value) => {\n",
              "    // Cache the last promise value to make it available to the next\n",
              "    // step of the generator.\n",
              "    outputElement.lastPromiseValue = value;\n",
              "    return next.value.response;\n",
              "  });\n",
              "}\n",
              "\n",
              "/**\n",
              " * Generator function which is called between each async step of the upload\n",
              " * process.\n",
              " * @param {string} inputId Element ID of the input file picker element.\n",
              " * @param {string} outputId Element ID of the output display.\n",
              " * @return {!Iterable<!Object>} Iterable of next steps.\n",
              " */\n",
              "function* uploadFilesStep(inputId, outputId) {\n",
              "  const inputElement = document.getElementById(inputId);\n",
              "  inputElement.disabled = false;\n",
              "\n",
              "  const outputElement = document.getElementById(outputId);\n",
              "  outputElement.innerHTML = '';\n",
              "\n",
              "  const pickedPromise = new Promise((resolve) => {\n",
              "    inputElement.addEventListener('change', (e) => {\n",
              "      resolve(e.target.files);\n",
              "    });\n",
              "  });\n",
              "\n",
              "  const cancel = document.createElement('button');\n",
              "  inputElement.parentElement.appendChild(cancel);\n",
              "  cancel.textContent = 'Cancel upload';\n",
              "  const cancelPromise = new Promise((resolve) => {\n",
              "    cancel.onclick = () => {\n",
              "      resolve(null);\n",
              "    };\n",
              "  });\n",
              "\n",
              "  // Wait for the user to pick the files.\n",
              "  const files = yield {\n",
              "    promise: Promise.race([pickedPromise, cancelPromise]),\n",
              "    response: {\n",
              "      action: 'starting',\n",
              "    }\n",
              "  };\n",
              "\n",
              "  cancel.remove();\n",
              "\n",
              "  // Disable the input element since further picks are not allowed.\n",
              "  inputElement.disabled = true;\n",
              "\n",
              "  if (!files) {\n",
              "    return {\n",
              "      response: {\n",
              "        action: 'complete',\n",
              "      }\n",
              "    };\n",
              "  }\n",
              "\n",
              "  for (const file of files) {\n",
              "    const li = document.createElement('li');\n",
              "    li.append(span(file.name, {fontWeight: 'bold'}));\n",
              "    li.append(span(\n",
              "        `(${file.type || 'n/a'}) - ${file.size} bytes, ` +\n",
              "        `last modified: ${\n",
              "            file.lastModifiedDate ? file.lastModifiedDate.toLocaleDateString() :\n",
              "                                    'n/a'} - `));\n",
              "    const percent = span('0% done');\n",
              "    li.appendChild(percent);\n",
              "\n",
              "    outputElement.appendChild(li);\n",
              "\n",
              "    const fileDataPromise = new Promise((resolve) => {\n",
              "      const reader = new FileReader();\n",
              "      reader.onload = (e) => {\n",
              "        resolve(e.target.result);\n",
              "      };\n",
              "      reader.readAsArrayBuffer(file);\n",
              "    });\n",
              "    // Wait for the data to be ready.\n",
              "    let fileData = yield {\n",
              "      promise: fileDataPromise,\n",
              "      response: {\n",
              "        action: 'continue',\n",
              "      }\n",
              "    };\n",
              "\n",
              "    // Use a chunked sending to avoid message size limits. See b/62115660.\n",
              "    let position = 0;\n",
              "    do {\n",
              "      const length = Math.min(fileData.byteLength - position, MAX_PAYLOAD_SIZE);\n",
              "      const chunk = new Uint8Array(fileData, position, length);\n",
              "      position += length;\n",
              "\n",
              "      const base64 = btoa(String.fromCharCode.apply(null, chunk));\n",
              "      yield {\n",
              "        response: {\n",
              "          action: 'append',\n",
              "          file: file.name,\n",
              "          data: base64,\n",
              "        },\n",
              "      };\n",
              "\n",
              "      let percentDone = fileData.byteLength === 0 ?\n",
              "          100 :\n",
              "          Math.round((position / fileData.byteLength) * 100);\n",
              "      percent.textContent = `${percentDone}% done`;\n",
              "\n",
              "    } while (position < fileData.byteLength);\n",
              "  }\n",
              "\n",
              "  // All done.\n",
              "  yield {\n",
              "    response: {\n",
              "      action: 'complete',\n",
              "    }\n",
              "  };\n",
              "}\n",
              "\n",
              "scope.google = scope.google || {};\n",
              "scope.google.colab = scope.google.colab || {};\n",
              "scope.google.colab._files = {\n",
              "  _uploadFiles,\n",
              "  _uploadFilesContinue,\n",
              "};\n",
              "})(self);\n",
              "</script> "
            ]
          },
          "metadata": {}
        },
        {
          "output_type": "stream",
          "name": "stdout",
          "text": [
            "Saving kaggle.json to kaggle.json\n",
            "rm: cannot remove '/root/.kaggle': No such file or directory\n",
            "rm: cannot remove '/root/content': No such file or directory\n",
            "Downloading sea-animals-image-dataste.zip to /content\n",
            "100% 311M/312M [00:18<00:00, 18.8MB/s]\n",
            "100% 312M/312M [00:18<00:00, 17.5MB/s]\n"
          ]
        }
      ],
      "source": [
        "from google.colab import files\n",
        "files.upload()\n",
        "\n",
        "!rm -r ~/.kaggle\n",
        "!rm -r ~/content\n",
        "!mkdir ~/.kaggle\n",
        "!mkdir ~/content\n",
        "!mv ./kaggle.json ~/.kaggle/\n",
        "!chmod 600 ~/.kaggle/kaggle.json\n",
        "\n",
        "!kaggle datasets download -d vencerlanz09/sea-animals-image-dataste\n",
        "\n",
        "import zipfile\n",
        "zip_ref = zipfile.ZipFile('sea-animals-image-dataste.zip', 'r')\n",
        "zip_ref.extractall('/content')\n",
        "zip_ref.close()"
      ]
    },
    {
      "cell_type": "code",
      "source": [
        "import numpy as np\n",
        "import matplotlib.pyplot as plt\n",
        "from keras.preprocessing.image import ImageDataGenerator\n",
        "from keras.models import Sequential\n",
        "from keras.layers import Dense, Dropout, Flatten, Conv2D, MaxPooling2D, BatchNormalization, GlobalAveragePooling2D\n",
        "from keras.applications import ResNet50V2\n",
        "import tensorflow as tf\n",
        "import random\n",
        "import numpy as np\n",
        "import os\n",
        "import shutil"
      ],
      "metadata": {
        "id": "U2KEpRVb8hVA"
      },
      "execution_count": 3,
      "outputs": []
    },
    {
      "cell_type": "code",
      "source": [
        "dataset_path = \"/content/\"\n",
        "train_path = \"/content/train\"\n",
        "val_path = \"/content/val\"\n",
        "test_path = \"/content/test\"\n",
        "\n",
        "if not os.path.exists(train_path):\n",
        "    os.mkdir(train_path)\n",
        "\n",
        "if not os.path.exists(val_path):\n",
        "    os.mkdir(val_path)\n",
        "\n",
        "if not os.path.exists(test_path):\n",
        "    os.mkdir(test_path)"
      ],
      "metadata": {
        "id": "uwpvYQVW8mFk"
      },
      "execution_count": 5,
      "outputs": []
    },
    {
      "cell_type": "code",
      "source": [
        "IMG_SIZE=256\n",
        "labels = ['Penguin', 'Starfish', 'Sea Rays', 'Crabs', 'Otter', 'Whale']"
      ],
      "metadata": {
        "colab": {
          "base_uri": "https://localhost:8080/"
        },
        "id": "MsNweuks85AI",
        "outputId": "3b08617a-09b9-4a15-a3a0-999c14721358"
      },
      "execution_count": 6,
      "outputs": []
    },
    {
      "cell_type": "code",
      "source": [
        "for label in labels:\n",
        "    label_full_path = os.path.join(dataset_path, label)\n",
        "\n",
        "    images_path = os.listdir(label_full_path)\n",
        "\n",
        "    images = [i for i in images_path if i.endswith(\".jpg\")]\n",
        "\n",
        "    random.shuffle(images)\n",
        "    split_size = 0.8\n",
        "    val_size = 0.1\n",
        "    train_len = int(len(images) * split_size)\n",
        "    val_len = train_len + int(len(images) * val_size)\n",
        "    train_images = images[:train_len]\n",
        "    val_images = images[train_len:val_len]\n",
        "    test_images = images[val_len:]\n",
        "\n",
        "    label_train_path = os.path.join(train_path, label)\n",
        "    label_val_path = os.path.join(val_path, label)\n",
        "    label_test_path = os.path.join(test_path, label)\n",
        "\n",
        "    if not os.path.exists(label_train_path):\n",
        "        os.mkdir(label_train_path)\n",
        "\n",
        "    if not os.path.exists(label_val_path):\n",
        "        os.mkdir(label_val_path)\n",
        "\n",
        "    if not os.path.exists(label_test_path):\n",
        "        os.mkdir(label_test_path)\n",
        "\n",
        "    for im in train_images:\n",
        "        shutil.copy(os.path.join(label_full_path, im), label_train_path)\n",
        "\n",
        "    for im in val_images:\n",
        "        shutil.copy(os.path.join(label_full_path, im), label_val_path)\n",
        "\n",
        "    for im in test_images:\n",
        "        shutil.copy(os.path.join(label_full_path, im), label_test_path)"
      ],
      "metadata": {
        "id": "WDE4MU_z86d2"
      },
      "execution_count": 7,
      "outputs": []
    },
    {
      "cell_type": "code",
      "source": [
        "batch_size = 32\n",
        "\n",
        "datagen = ImageDataGenerator(\n",
        "        rescale=1./255,\n",
        "        rotation_range=10,\n",
        "        zoom_range=0.1,\n",
        "        width_shift_range=0.2,\n",
        "        height_shift_range=0.2,\n",
        "        horizontal_flip=True\n",
        ")\n",
        "\n",
        "test_datagen = ImageDataGenerator(rescale=1./255)"
      ],
      "metadata": {
        "id": "CxLFLdYx88of"
      },
      "execution_count": 8,
      "outputs": []
    },
    {
      "cell_type": "code",
      "source": [
        "train_ds = datagen.flow_from_directory(\n",
        "    train_path,\n",
        "    target_size=(IMG_SIZE, IMG_SIZE),\n",
        "    classes=labels,\n",
        "    batch_size=batch_size\n",
        ")\n",
        "\n",
        "val_ds = test_datagen.flow_from_directory(\n",
        "    val_path,\n",
        "    target_size=(IMG_SIZE, IMG_SIZE),\n",
        "    classes=labels,\n",
        "    batch_size=batch_size\n",
        ")\n",
        "\n",
        "test_ds = test_datagen.flow_from_directory(\n",
        "    test_path,\n",
        "    target_size=(IMG_SIZE, IMG_SIZE),\n",
        "    classes=labels,\n",
        "    batch_size=batch_size\n",
        ")"
      ],
      "metadata": {
        "colab": {
          "base_uri": "https://localhost:8080/"
        },
        "id": "tfg-Hj-r9Alx",
        "outputId": "1458f133-f69e-4b41-906b-c1657f069b31"
      },
      "execution_count": 9,
      "outputs": [
        {
          "output_type": "stream",
          "name": "stdout",
          "text": [
            "Found 2444 images belonging to 6 classes.\n",
            "Found 302 images belonging to 6 classes.\n",
            "Found 312 images belonging to 6 classes.\n"
          ]
        }
      ]
    },
    {
      "cell_type": "code",
      "source": [
        "base_model = ResNet50V2(include_top=False, weights='imagenet', input_shape=(IMG_SIZE,IMG_SIZE,3))\n",
        "base_model.trainable = False\n",
        "model = Sequential([\n",
        "    base_model,\n",
        "    GlobalAveragePooling2D(),\n",
        "    Dense(256, activation='relu'),\n",
        "    Dropout(0.2),\n",
        "    Dense(len(labels), activation='softmax')\n",
        "])\n",
        "model.summary()\n",
        "model.compile(optimizer='adam', loss='categorical_crossentropy', metrics=['accuracy'])"
      ],
      "metadata": {
        "colab": {
          "base_uri": "https://localhost:8080/"
        },
        "id": "XBqLa4Qg9K43",
        "outputId": "75f51310-de2d-47f1-cea0-4fb208654520"
      },
      "execution_count": 19,
      "outputs": [
        {
          "output_type": "stream",
          "name": "stdout",
          "text": [
            "Model: \"sequential_5\"\n",
            "_________________________________________________________________\n",
            " Layer (type)                Output Shape              Param #   \n",
            "=================================================================\n",
            " resnet50v2 (Functional)     (None, 8, 8, 2048)        23564800  \n",
            "                                                                 \n",
            " global_average_pooling2d_4  (None, 2048)              0         \n",
            "  (GlobalAveragePooling2D)                                       \n",
            "                                                                 \n",
            " dense_12 (Dense)            (None, 256)               524544    \n",
            "                                                                 \n",
            " dropout_6 (Dropout)         (None, 256)               0         \n",
            "                                                                 \n",
            " dense_13 (Dense)            (None, 6)                 1542      \n",
            "                                                                 \n",
            "=================================================================\n",
            "Total params: 24090886 (91.90 MB)\n",
            "Trainable params: 526086 (2.01 MB)\n",
            "Non-trainable params: 23564800 (89.89 MB)\n",
            "_________________________________________________________________\n"
          ]
        }
      ]
    },
    {
      "cell_type": "code",
      "source": [
        "model.fit(train_ds, epochs=10, validation_data=val_ds)"
      ],
      "metadata": {
        "colab": {
          "base_uri": "https://localhost:8080/"
        },
        "id": "fVl-VjmQA14p",
        "outputId": "2516c424-b379-4f06-ac45-67c78b6f0e46"
      },
      "execution_count": 20,
      "outputs": [
        {
          "output_type": "stream",
          "name": "stdout",
          "text": [
            "Epoch 1/10\n",
            "77/77 [==============================] - 49s 585ms/step - loss: 0.3630 - accuracy: 0.8768 - val_loss: 0.2464 - val_accuracy: 0.9338\n",
            "Epoch 2/10\n",
            "77/77 [==============================] - 49s 639ms/step - loss: 0.1699 - accuracy: 0.9349 - val_loss: 0.2297 - val_accuracy: 0.9305\n",
            "Epoch 3/10\n",
            "77/77 [==============================] - 45s 583ms/step - loss: 0.1413 - accuracy: 0.9472 - val_loss: 0.1801 - val_accuracy: 0.9437\n",
            "Epoch 4/10\n",
            "77/77 [==============================] - 46s 592ms/step - loss: 0.1016 - accuracy: 0.9595 - val_loss: 0.1304 - val_accuracy: 0.9536\n",
            "Epoch 5/10\n",
            "77/77 [==============================] - 45s 586ms/step - loss: 0.0931 - accuracy: 0.9587 - val_loss: 0.1494 - val_accuracy: 0.9570\n",
            "Epoch 6/10\n",
            "77/77 [==============================] - 45s 581ms/step - loss: 0.0887 - accuracy: 0.9648 - val_loss: 0.1638 - val_accuracy: 0.9603\n",
            "Epoch 7/10\n",
            "77/77 [==============================] - 44s 566ms/step - loss: 0.0648 - accuracy: 0.9738 - val_loss: 0.1144 - val_accuracy: 0.9636\n",
            "Epoch 8/10\n",
            "77/77 [==============================] - 45s 579ms/step - loss: 0.0789 - accuracy: 0.9742 - val_loss: 0.1298 - val_accuracy: 0.9669\n",
            "Epoch 9/10\n",
            "77/77 [==============================] - 45s 582ms/step - loss: 0.0629 - accuracy: 0.9771 - val_loss: 0.1350 - val_accuracy: 0.9669\n",
            "Epoch 10/10\n",
            "77/77 [==============================] - 45s 581ms/step - loss: 0.0568 - accuracy: 0.9775 - val_loss: 0.1236 - val_accuracy: 0.9603\n"
          ]
        },
        {
          "output_type": "execute_result",
          "data": {
            "text/plain": [
              "<keras.src.callbacks.History at 0x79a8601390c0>"
            ]
          },
          "metadata": {},
          "execution_count": 20
        }
      ]
    },
    {
      "cell_type": "code",
      "source": [
        "_, accuracy = model.evaluate(test_ds)\n",
        "print(\"Test accuracy:\", accuracy)"
      ],
      "metadata": {
        "colab": {
          "base_uri": "https://localhost:8080/"
        },
        "id": "4mBL-b0yBA9X",
        "outputId": "c9e7ece5-d8d7-46cd-c95d-991f8d2e965b"
      },
      "execution_count": 21,
      "outputs": [
        {
          "output_type": "stream",
          "name": "stdout",
          "text": [
            "10/10 [==============================] - 4s 373ms/step - loss: 0.1349 - accuracy: 0.9359\n",
            "Test accuracy: 0.9358974099159241\n"
          ]
        }
      ]
    }
  ]
}